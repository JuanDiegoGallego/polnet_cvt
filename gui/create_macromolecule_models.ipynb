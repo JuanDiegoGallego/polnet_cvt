{
 "cells": [
  {
   "cell_type": "markdown",
   "id": "18c4a6cf-019d-4bb2-990d-14eff85ed012",
   "metadata": {},
   "source": [
    "## Create macromolecule model\n",
    "\n",
    "This notebook assists to generate the configuration files **.pns** macromolecule structural models. It also allows to visualize the model in 3D to adjunto the iso-surface level. "
   ]
  },
  {
   "cell_type": "code",
   "execution_count": 1,
   "id": "2972107d-e799-4669-89ca-24ddcc320ff2",
   "metadata": {
    "jupyter": {
     "source_hidden": true
    },
    "tags": []
   },
   "outputs": [],
   "source": [
    "from core.vtk_utilities import *\n",
    "from core.utilities import *\n",
    "from core.widgets_utilities import *\n",
    "from core.tk_utilities import *"
   ]
  },
  {
   "cell_type": "markdown",
   "id": "42df4f29-8602-4a3d-9618-10c34538085d",
   "metadata": {},
   "source": [
    "Input parameters to adjust.\n",
    "\n",
    "| Molecule Variable  | Description                              | Data Type                          |\n",
    "|:-------------------|:---------------------------------------:|:----------------------------------|\n",
    "| MMER_ID            | Identifier                               | String                             |\n",
    "| MMER_SVOL          | Path to density (.mrc)                   | String                             |\n",
    "| MMER_ISO           | Isosurface threshold                     | Positive real value                |\n",
    "| PMER_L             | di ∈ rm · [PMER L, 2xPMER L]             | Positive value                     |\n",
    "| PMER_OCC           | O                                        | Percentage                         |\n",
    "| PMER_LMEX          | Cluster max length                       | Positive real value in ˚A          |\n",
    "| PMER_OVER_TOL      | Overlapping tolerance                    | Percentage                         |\n",
    "| PMER_REVERSE_NORMALS| Reverse membrane normal                 | Boolean                            |\n",
    "\n",
    "\n",
    "First selected de protein you want to create the file. After select the values for the parameters, select the path and the name you want for the file and click on the **save** button. One VTK window will open to select the iso surface. \n",
    "\n",
    "Once the iso-surface level have been selected, close the window and the macromolecule file will be automatically created with the selected values for each parameter. Repeat this proccess for every density map file."
   ]
  },
  {
   "cell_type": "code",
   "execution_count": 2,
   "id": "b1a9d9cc-8ce0-432c-bbf3-b443ad1a617b",
   "metadata": {
    "jupyter": {
     "source_hidden": true
    },
    "tags": []
   },
   "outputs": [
    {
     "data": {
      "application/vnd.jupyter.widget-view+json": {
       "model_id": "7f2497d8302e477a95cc2aa2e4360906",
       "version_major": 2,
       "version_minor": 0
      },
      "text/plain": [
       "Label(value='Introduce the protein you want to create the macromolecule')"
      ]
     },
     "metadata": {},
     "output_type": "display_data"
    },
    {
     "data": {
      "application/vnd.jupyter.widget-view+json": {
       "model_id": "bd5093e4ad6b47689349ea1d8ef67edd",
       "version_major": 2,
       "version_minor": 0
      },
      "text/plain": [
       "HBox(children=(Button(description='Select protein file', style=ButtonStyle()), Dropdown(layout=Layout(width='5…"
      ]
     },
     "metadata": {},
     "output_type": "display_data"
    },
    {
     "data": {
      "application/vnd.jupyter.widget-view+json": {
       "model_id": "f695225d40494e27b5a797a9d4995831",
       "version_major": 2,
       "version_minor": 0
      },
      "text/plain": [
       "HBox(children=(Label(value='Mark if it is a membrane protein'), Checkbox(value=False, indent=False)))"
      ]
     },
     "metadata": {},
     "output_type": "display_data"
    },
    {
     "data": {
      "application/vnd.jupyter.widget-view+json": {
       "model_id": "667b61b3a5794918b7107a642d11fe3c",
       "version_major": 2,
       "version_minor": 0
      },
      "text/plain": [
       "VBox(children=(HBox(children=(Text(value='pdb_1bxn', description='MMER_ID:', placeholder='pdb_1bxn', style=Tex…"
      ]
     },
     "metadata": {},
     "output_type": "display_data"
    },
    {
     "data": {
      "application/vnd.jupyter.widget-view+json": {
       "model_id": "89a18330dd114ff286afc020dead8a36",
       "version_major": 2,
       "version_minor": 0
      },
      "text/plain": [
       "HBox(children=(Label(value='Marks if you want to reverse membrane protein normals'), Checkbox(value=False, dis…"
      ]
     },
     "metadata": {},
     "output_type": "display_data"
    },
    {
     "data": {
      "application/vnd.jupyter.widget-view+json": {
       "model_id": "76e7e283b1e54ab0a4d507432a78e439",
       "version_major": 2,
       "version_minor": 0
      },
      "text/plain": [
       "FileChooser(path='/home/martinez/workspace/pycharm_proj/polnet/gui', filename='', title='Select where you want…"
      ]
     },
     "metadata": {},
     "output_type": "display_data"
    },
    {
     "data": {
      "application/vnd.jupyter.widget-view+json": {
       "model_id": "72fd650f17924c7f9933a890d19d7182",
       "version_major": 2,
       "version_minor": 0
      },
      "text/plain": [
       "Button(description='Save', style=ButtonStyle())"
      ]
     },
     "metadata": {},
     "output_type": "display_data"
    }
   ],
   "source": [
    "DEFAULT_PATH = \"../data/in_10A/\"\n",
    "file_path = \"\"\n",
    "def select(btn):\n",
    "    global file_path\n",
    "    file_path = select_file(\".mrc\")\n",
    "    dropdown_1.options = [file_path]\n",
    "    dropdown_1.value = file_path\n",
    "\n",
    "def create(btn):\n",
    "    with output:\n",
    "        print('Enter iso-surface')\n",
    "        mmer_iso = select_isosurface(file_path, 800,600)\n",
    "        path = check_dir(file_destination_widget.value, DEFAULT_PATH)\n",
    "        write_mmolecules(mmer_id_widget.value, file_path, path, mmer_iso ,pmer_l_widget.value, \n",
    "                         pmer_l_mex_widget.value, pmer_occ_widget.value, pmer_over_tol_widget.value, pmer_reverse_normals.value, membrane_option.value)\n",
    "  \n",
    "        mmer_id_widget.value = \"\"\n",
    "\n",
    "(protein_file_button, dropdown_1, save_button, mmer_id_widget, pmer_l_widget, pmer_l_mex_widget, \n",
    " pmer_occ_widget, pmer_over_tol_widget, pmer_reverse_normals, membrane_option, file_destination_widget) = widgets_mmolecules_params()\n",
    "\n",
    "output = widgets.Output()\n",
    "\n",
    "save_button.on_click(create)\n",
    "protein_file_button.on_click(select)"
   ]
  },
  {
   "cell_type": "code",
   "execution_count": null,
   "id": "c2ae36dc-0b49-4a31-9637-23a4324cf816",
   "metadata": {
    "jupyter": {
     "source_hidden": true
    }
   },
   "outputs": [],
   "source": []
  },
  {
   "cell_type": "code",
   "execution_count": null,
   "id": "f2e3d6fe-eb51-4b26-8b29-afb08b64733f",
   "metadata": {
    "jupyter": {
     "source_hidden": true
    }
   },
   "outputs": [],
   "source": []
  }
 ],
 "metadata": {
  "kernelspec": {
   "display_name": "Python 3 (ipykernel)",
   "language": "python",
   "name": "python3"
  },
  "language_info": {
   "codemirror_mode": {
    "name": "ipython",
    "version": 3
   },
   "file_extension": ".py",
   "mimetype": "text/x-python",
   "name": "python",
   "nbconvert_exporter": "python",
   "pygments_lexer": "ipython3",
   "version": "3.12.0"
  }
 },
 "nbformat": 4,
 "nbformat_minor": 5
}
